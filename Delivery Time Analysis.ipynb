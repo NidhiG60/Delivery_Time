{
 "cells": [
  {
   "cell_type": "code",
   "execution_count": 1,
   "id": "fa3302b8",
   "metadata": {},
   "outputs": [],
   "source": [
    "import pandas as pd\n",
    "import numpy as np\n",
    "import seaborn as sns\n",
    "from sklearn.model_selection import train_test_split\n",
    "from sklearn.linear_model import LinearRegression"
   ]
  },
  {
   "cell_type": "code",
   "execution_count": 2,
   "id": "4d3d1afe",
   "metadata": {},
   "outputs": [
    {
     "name": "stdout",
     "output_type": "stream",
     "text": [
      "<class 'pandas.core.frame.DataFrame'>\n",
      "RangeIndex: 21 entries, 0 to 20\n",
      "Data columns (total 2 columns):\n",
      " #   Column         Non-Null Count  Dtype  \n",
      "---  ------         --------------  -----  \n",
      " 0   Sorting Time   21 non-null     int64  \n",
      " 1   Delivery Time  21 non-null     float64\n",
      "dtypes: float64(1), int64(1)\n",
      "memory usage: 464.0 bytes\n"
     ]
    }
   ],
   "source": [
    "deldata = pd.read_csv(\"C:/Users/Winner/Desktop/delivery_time.csv\")\n",
    "deldata.info()"
   ]
  },
  {
   "cell_type": "code",
   "execution_count": 3,
   "id": "c8032b07",
   "metadata": {},
   "outputs": [
    {
     "name": "stdout",
     "output_type": "stream",
     "text": [
      "(13, 2)\n",
      "(8, 2)\n"
     ]
    }
   ],
   "source": [
    "train, test = train_test_split(deldata,test_size=0.35)\n",
    "print(train.shape)\n",
    "print(test.shape)"
   ]
  },
  {
   "cell_type": "code",
   "execution_count": 4,
   "id": "2d4baa5b",
   "metadata": {},
   "outputs": [],
   "source": [
    "x = deldata['Sorting Time'].values.reshape(-1,1)\n",
    "y = deldata['Delivery Time'].values.reshape(-1,1)"
   ]
  },
  {
   "cell_type": "code",
   "execution_count": 5,
   "id": "3e8d93f7",
   "metadata": {},
   "outputs": [
    {
     "name": "stdout",
     "output_type": "stream",
     "text": [
      "LinearRegression()\n",
      "DT Model Training is Done\n"
     ]
    }
   ],
   "source": [
    "DTmodel = LinearRegression()\n",
    "train_DTmodel = DTmodel.fit(x,y)\n",
    "print(DTmodel)\n",
    "print('DT Model Training is Done')"
   ]
  },
  {
   "cell_type": "code",
   "execution_count": 6,
   "id": "d496fa15",
   "metadata": {},
   "outputs": [
    {
     "name": "stdout",
     "output_type": "stream",
     "text": [
      "[[1.6490199]]\n",
      "[6.58273397]\n"
     ]
    }
   ],
   "source": [
    "print(DTmodel.coef_)  \n",
    "print(DTmodel.intercept_)"
   ]
  },
  {
   "cell_type": "code",
   "execution_count": 7,
   "id": "dd022f7e",
   "metadata": {},
   "outputs": [
    {
     "name": "stdout",
     "output_type": "stream",
     "text": [
      "The delivery time is 16 minutes when the sorting time is 6 minutes.\n"
     ]
    }
   ],
   "source": [
    "x = 6\n",
    "y = round((DTmodel.coef_[0][0])*x + (DTmodel.intercept_[0]))\n",
    "print((\"The delivery time is {} minutes when the sorting time is {} minutes.\".format(y,x)))"
   ]
  },
  {
   "cell_type": "code",
   "execution_count": 8,
   "id": "c162906d",
   "metadata": {},
   "outputs": [
    {
     "name": "stdout",
     "output_type": "stream",
     "text": [
      "The delivery time is 23 minutes when the sorting time is 10 minutes.\n"
     ]
    }
   ],
   "source": [
    "x = 10\n",
    "y = round((DTmodel.coef_[0][0])*x + (DTmodel.intercept_[0]))\n",
    "print((\"The delivery time is {} minutes when the sorting time is {} minutes.\".format(y,x)))"
   ]
  },
  {
   "cell_type": "code",
   "execution_count": 9,
   "id": "8638dc46",
   "metadata": {},
   "outputs": [
    {
     "name": "stdout",
     "output_type": "stream",
     "text": [
      "The delivery time is 41 minutes when the sorting time is 21 minutes.\n"
     ]
    }
   ],
   "source": [
    "x = 21\n",
    "y = round((DTmodel.coef_[0][0])*x + (DTmodel.intercept_[0]))\n",
    "print((\"The delivery time is {} minutes when the sorting time is {} minutes.\".format(y,x)))"
   ]
  },
  {
   "cell_type": "code",
   "execution_count": 10,
   "id": "0c3d14fa",
   "metadata": {},
   "outputs": [
    {
     "data": {
      "text/plain": [
       "array([[10],\n",
       "       [ 3],\n",
       "       [ 9],\n",
       "       [ 4],\n",
       "       [ 7],\n",
       "       [ 5],\n",
       "       [ 4],\n",
       "       [ 7]], dtype=int64)"
      ]
     },
     "execution_count": 10,
     "metadata": {},
     "output_type": "execute_result"
    }
   ],
   "source": [
    "x_test = test['Sorting Time'].values.reshape(-1,1)\n",
    "x_test"
   ]
  },
  {
   "cell_type": "code",
   "execution_count": 11,
   "id": "f32ef3ca",
   "metadata": {},
   "outputs": [
    {
     "data": {
      "text/html": [
       "<div>\n",
       "<style scoped>\n",
       "    .dataframe tbody tr th:only-of-type {\n",
       "        vertical-align: middle;\n",
       "    }\n",
       "\n",
       "    .dataframe tbody tr th {\n",
       "        vertical-align: top;\n",
       "    }\n",
       "\n",
       "    .dataframe thead th {\n",
       "        text-align: right;\n",
       "    }\n",
       "</style>\n",
       "<table border=\"1\" class=\"dataframe\">\n",
       "  <thead>\n",
       "    <tr style=\"text-align: right;\">\n",
       "      <th></th>\n",
       "      <th>Sorting Time</th>\n",
       "      <th>Delivery Time</th>\n",
       "      <th>Pred_DT</th>\n",
       "      <th>Error</th>\n",
       "    </tr>\n",
       "  </thead>\n",
       "  <tbody>\n",
       "    <tr>\n",
       "      <th>8</th>\n",
       "      <td>10</td>\n",
       "      <td>17.90</td>\n",
       "      <td>23.072933</td>\n",
       "      <td>-5.172933</td>\n",
       "    </tr>\n",
       "    <tr>\n",
       "      <th>7</th>\n",
       "      <td>3</td>\n",
       "      <td>9.50</td>\n",
       "      <td>11.529794</td>\n",
       "      <td>-2.029794</td>\n",
       "    </tr>\n",
       "    <tr>\n",
       "      <th>3</th>\n",
       "      <td>9</td>\n",
       "      <td>24.00</td>\n",
       "      <td>21.423913</td>\n",
       "      <td>2.576087</td>\n",
       "    </tr>\n",
       "    <tr>\n",
       "      <th>15</th>\n",
       "      <td>4</td>\n",
       "      <td>14.88</td>\n",
       "      <td>13.178814</td>\n",
       "      <td>1.701186</td>\n",
       "    </tr>\n",
       "    <tr>\n",
       "      <th>6</th>\n",
       "      <td>7</td>\n",
       "      <td>19.00</td>\n",
       "      <td>18.125873</td>\n",
       "      <td>0.874127</td>\n",
       "    </tr>\n",
       "    <tr>\n",
       "      <th>20</th>\n",
       "      <td>5</td>\n",
       "      <td>21.50</td>\n",
       "      <td>14.827833</td>\n",
       "      <td>6.672167</td>\n",
       "    </tr>\n",
       "    <tr>\n",
       "      <th>1</th>\n",
       "      <td>4</td>\n",
       "      <td>13.50</td>\n",
       "      <td>13.178814</td>\n",
       "      <td>0.321186</td>\n",
       "    </tr>\n",
       "    <tr>\n",
       "      <th>19</th>\n",
       "      <td>7</td>\n",
       "      <td>17.83</td>\n",
       "      <td>18.125873</td>\n",
       "      <td>-0.295873</td>\n",
       "    </tr>\n",
       "  </tbody>\n",
       "</table>\n",
       "</div>"
      ],
      "text/plain": [
       "    Sorting Time  Delivery Time    Pred_DT     Error\n",
       "8             10          17.90  23.072933 -5.172933\n",
       "7              3           9.50  11.529794 -2.029794\n",
       "3              9          24.00  21.423913  2.576087\n",
       "15             4          14.88  13.178814  1.701186\n",
       "6              7          19.00  18.125873  0.874127\n",
       "20             5          21.50  14.827833  6.672167\n",
       "1              4          13.50  13.178814  0.321186\n",
       "19             7          17.83  18.125873 -0.295873"
      ]
     },
     "execution_count": 11,
     "metadata": {},
     "output_type": "execute_result"
    }
   ],
   "source": [
    "test ['Pred_DT'] = train_DTmodel.predict(x_test)\n",
    "test['Error'] = test['Delivery Time'] - test['Pred_DT']\n",
    "test"
   ]
  },
  {
   "cell_type": "code",
   "execution_count": 12,
   "id": "a461f27b",
   "metadata": {},
   "outputs": [
    {
     "data": {
      "text/plain": [
       "<Axes: xlabel='Sorting Time', ylabel='Pred_DT'>"
      ]
     },
     "execution_count": 12,
     "metadata": {},
     "output_type": "execute_result"
    },
    {
     "data": {
      "image/png": "[encoded data removed]",
      "text/plain": [
       "<Figure size 640x480 with 1 Axes>"
      ]
     },
     "metadata": {},
     "output_type": "display_data"
    }
   ],
   "source": [
    "sns.regplot(x = 'Sorting Time', y = 'Pred_DT', data = test, color = 'orange')"
   ]
  },
  {
   "cell_type": "code",
   "execution_count": 13,
   "id": "57867440",
   "metadata": {},
   "outputs": [
    {
     "data": {
      "text/plain": [
       "<Axes: xlabel='Sorting Time', ylabel='Delivery Time'>"
      ]
     },
     "execution_count": 13,
     "metadata": {},
     "output_type": "execute_result"
    },
    {
     "data": {
      "image/png": "[encoded data removed]",
      "text/plain": [
       "<Figure size 640x480 with 1 Axes>"
      ]
     },
     "metadata": {},
     "output_type": "display_data"
    }
   ],
   "source": [
    "sns.regplot(x = 'Sorting Time', y = 'Delivery Time', data = train)"
   ]
  }
 ],
 "metadata": {
  "kernelspec": {
   "display_name": "Python 3 (ipykernel)",
   "language": "python",
   "name": "python3"
  },
  "language_info": {
   "codemirror_mode": {
    "name": "ipython",
    "version": 3
   },
   "file_extension": ".py",
   "mimetype": "text/x-python",
   "name": "python",
   "nbconvert_exporter": "python",
   "pygments_lexer": "ipython3",
   "version": "3.10.9"
  }
 },
 "nbformat": 4,
 "nbformat_minor": 5
}
